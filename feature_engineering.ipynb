{
 "cells": [
  {
   "cell_type": "code",
   "execution_count": 1,
   "id": "92f109f0",
   "metadata": {},
   "outputs": [],
   "source": [
    "import pandas as pd\n",
    "import numpy as np\n",
    "import matplotlib.pyplot as plt\n",
    "import math\n",
    "\n",
    "from sklearn.metrics import mean_squared_error\n",
    "from sklearn.model_selection import train_test_split\n",
    "\n",
    "import xgboost as xgb\n",
    "from sklearn.ensemble import RandomForestRegressor"
   ]
  },
  {
   "cell_type": "code",
   "execution_count": 2,
   "id": "639ca45b",
   "metadata": {},
   "outputs": [],
   "source": [
    "#feature engineering function\n",
    "#adds statistical variables into the dataset for more features\n",
    "\n",
    "def io_times_daygap_diff1(df,method,bycolumn, calcolumn):\n",
    "    import math\n",
    "    if method == 'max':\n",
    "        test_t = df.groupby(bycolumn)[calcolumn].max().reset_index(\n",
    "                name = 'history_date'+calcolumn+'max')\n",
    "    elif method == 'min':\n",
    "        test_t = df.groupby(bycolumn)[calcolumn].min().reset_index(\n",
    "                name = 'history_date'+calcolumn+'min')        \n",
    "    elif method == 'range':\n",
    "        test_t = pd.DataFrame(df.groupby(bycolumn)[calcolumn].max()\n",
    "                 - df.groupby(bycolumn)[calcolumn].min())\n",
    "        test_t.rename(columns = {calcolumn: 'history_date'+calcolumn +'range'},inplace = True)\n",
    "        test_t[bycolumn] = test_t.index\n",
    "        test_t.reset_index(drop=True,inplace = True)\n",
    "    elif method == 'std':\n",
    "        test_t = df.groupby(bycolumn)[calcolumn].std().reset_index(\n",
    "                name = 'history_date'+calcolumn+'std')    \n",
    "    elif method == 'avg':\n",
    "        test_t = df.groupby(bycolumn)[calcolumn].mean().reset_index(\n",
    "                name =  'history_date'+calcolumn+'avg')  \n",
    "    elif method == 'skew':\n",
    "        test_t = df.groupby(bycolumn)[calcolumn].skew().reset_index(\n",
    "                name =  'history_date'+calcolumn+'skew')     \n",
    "    elif method == 'kurt':\n",
    "        test_t = df.groupby(bycolumn)[calcolumn].apply(pd.DataFrame.kurt).reset_index(\n",
    "                name = 'history_date'+calcolumn+'kurt')   \n",
    "    return test_t"
   ]
  },
  {
   "cell_type": "code",
   "execution_count": 25,
   "id": "1584a561",
   "metadata": {},
   "outputs": [],
   "source": [
    "df = pd.read_csv(\"datasets/hourly_training.csv\")\n",
    "\n",
    "#adding time variables\n",
    "time_sin = np.sin(2*np.pi* df['month']/12)\n",
    "time_cos = np.cos(2*np.pi* df['month']/12)\n",
    "\n",
    "time_cos.to_csv('sin.csv')"
   ]
  },
  {
   "cell_type": "code",
   "execution_count": null,
   "id": "5b4ee3e4",
   "metadata": {},
   "outputs": [],
   "source": []
  },
  {
   "cell_type": "code",
   "execution_count": null,
   "id": "8399ec42",
   "metadata": {},
   "outputs": [],
   "source": []
  }
 ],
 "metadata": {
  "kernelspec": {
   "display_name": "Python 3 (ipykernel)",
   "language": "python",
   "name": "python3"
  },
  "language_info": {
   "codemirror_mode": {
    "name": "ipython",
    "version": 3
   },
   "file_extension": ".py",
   "mimetype": "text/x-python",
   "name": "python",
   "nbconvert_exporter": "python",
   "pygments_lexer": "ipython3",
   "version": "3.11.4"
  }
 },
 "nbformat": 4,
 "nbformat_minor": 5
}
